{
 "cells": [
  {
   "cell_type": "code",
   "execution_count": 1,
   "metadata": {},
   "outputs": [],
   "source": [
    "import pandas as pd\n",
    "import numpy as np\n",
    "import psycopg2\n",
    "import requests\n",
    "from tqdm import tqdm"
   ]
  },
  {
   "cell_type": "code",
   "execution_count": 2,
   "metadata": {},
   "outputs": [],
   "source": [
    "path = 'https://almanak.mybluemix.net/chatbot/rules'"
   ]
  },
  {
   "cell_type": "code",
   "execution_count": 22,
   "metadata": {},
   "outputs": [],
   "source": [
    "conn = psycopg2.connect(\n",
    "    host=\"ec2-52-86-115-245.compute-1.amazonaws.com\",\n",
    "    database=\"d92em23mmlh07d\",\n",
    "    user=\"yjixuohawbxqpj\",\n",
    "    password=\"61a11b1ebe328f19fc17be47b54382fc78a89a613d3eaea7633ff4cf4a3d73ad\"\n",
    ")\n",
    "\n",
    "cur = conn.cursor()"
   ]
  },
  {
   "cell_type": "code",
   "execution_count": 4,
   "metadata": {},
   "outputs": [
    {
     "data": {
      "text/plain": [
       "['id_regra',\n",
       " 'id_jogo',\n",
       " 'nm_regra',\n",
       " 'nr_regra',\n",
       " 'ds_regra',\n",
       " 'fl_opcional',\n",
       " 'dt_registro']"
      ]
     },
     "execution_count": 4,
     "metadata": {},
     "output_type": "execute_result"
    }
   ],
   "source": [
    "cur.execute(\n",
    "    \"select column_name from information_schema.columns where table_schema = 'public' and table_name = 'tb_regra' order by ordinal_position;\"\n",
    ")\n",
    "columnsResult = cur.fetchall()\n",
    "title = []\n",
    "for i in columnsResult:\n",
    "    title.append(i[0])\n",
    "\n",
    "title"
   ]
  },
  {
   "cell_type": "code",
   "execution_count": 5,
   "metadata": {},
   "outputs": [
    {
     "data": {
      "text/html": [
       "<div>\n",
       "<style scoped>\n",
       "    .dataframe tbody tr th:only-of-type {\n",
       "        vertical-align: middle;\n",
       "    }\n",
       "\n",
       "    .dataframe tbody tr th {\n",
       "        vertical-align: top;\n",
       "    }\n",
       "\n",
       "    .dataframe thead th {\n",
       "        text-align: right;\n",
       "    }\n",
       "</style>\n",
       "<table border=\"1\" class=\"dataframe\">\n",
       "  <thead>\n",
       "    <tr style=\"text-align: right;\">\n",
       "      <th></th>\n",
       "      <th>id_regra</th>\n",
       "      <th>id_jogo</th>\n",
       "      <th>nm_regra</th>\n",
       "      <th>nr_regra</th>\n",
       "      <th>ds_regra</th>\n",
       "      <th>fl_opcional</th>\n",
       "      <th>dt_registro</th>\n",
       "    </tr>\n",
       "  </thead>\n",
       "  <tbody>\n",
       "    <tr>\n",
       "      <th>0</th>\n",
       "      <td>1</td>\n",
       "      <td>1</td>\n",
       "      <td>Principal</td>\n",
       "      <td>1</td>\n",
       "      <td>Uma pessoa de cada dupla joga um taco para fre...</td>\n",
       "      <td>nao</td>\n",
       "      <td>2022-01-01</td>\n",
       "    </tr>\n",
       "    <tr>\n",
       "      <th>1</th>\n",
       "      <td>2</td>\n",
       "      <td>1</td>\n",
       "      <td>Principal</td>\n",
       "      <td>2</td>\n",
       "      <td>Com a missão de aproximá-lo ao máximo que pude...</td>\n",
       "      <td>nao</td>\n",
       "      <td>2022-01-01</td>\n",
       "    </tr>\n",
       "    <tr>\n",
       "      <th>2</th>\n",
       "      <td>3</td>\n",
       "      <td>1</td>\n",
       "      <td>Principal</td>\n",
       "      <td>3</td>\n",
       "      <td>O meio fio de uma rua, ou um muro.</td>\n",
       "      <td>nao</td>\n",
       "      <td>2022-01-01</td>\n",
       "    </tr>\n",
       "    <tr>\n",
       "      <th>3</th>\n",
       "      <td>4</td>\n",
       "      <td>1</td>\n",
       "      <td>Principal</td>\n",
       "      <td>4</td>\n",
       "      <td>Ganha essa a disputa o par do taco que aproxim...</td>\n",
       "      <td>nao</td>\n",
       "      <td>2022-01-01</td>\n",
       "    </tr>\n",
       "    <tr>\n",
       "      <th>4</th>\n",
       "      <td>5</td>\n",
       "      <td>1</td>\n",
       "      <td>Principal</td>\n",
       "      <td>5</td>\n",
       "      <td>Se o bastão encostar ou passar do ponto, a dup...</td>\n",
       "      <td>nao</td>\n",
       "      <td>2022-01-01</td>\n",
       "    </tr>\n",
       "  </tbody>\n",
       "</table>\n",
       "</div>"
      ],
      "text/plain": [
       "   id_regra  id_jogo   nm_regra  nr_regra  \\\n",
       "0         1        1  Principal         1   \n",
       "1         2        1  Principal         2   \n",
       "2         3        1  Principal         3   \n",
       "3         4        1  Principal         4   \n",
       "4         5        1  Principal         5   \n",
       "\n",
       "                                            ds_regra fl_opcional dt_registro  \n",
       "0  Uma pessoa de cada dupla joga um taco para fre...         nao  2022-01-01  \n",
       "1  Com a missão de aproximá-lo ao máximo que pude...         nao  2022-01-01  \n",
       "2                 O meio fio de uma rua, ou um muro.         nao  2022-01-01  \n",
       "3  Ganha essa a disputa o par do taco que aproxim...         nao  2022-01-01  \n",
       "4  Se o bastão encostar ou passar do ponto, a dup...         nao  2022-01-01  "
      ]
     },
     "execution_count": 5,
     "metadata": {},
     "output_type": "execute_result"
    }
   ],
   "source": [
    "cur.execute(\n",
    "    \"select * from tb_regra order by 1;\"\n",
    ")\n",
    "\n",
    "regras = cur.fetchall()\n",
    "\n",
    "df = pd.DataFrame(regras)\n",
    "\n",
    "for n,col in enumerate(title):\n",
    "    df = df.rename(columns={n:col})\n",
    "\n",
    "df.head(5)\n"
   ]
  },
  {
   "cell_type": "code",
   "execution_count": 17,
   "metadata": {},
   "outputs": [
    {
     "name": "stderr",
     "output_type": "stream",
     "text": [
      "100%|██████████| 37/37 [00:49<00:00,  1.33s/it]\n"
     ]
    }
   ],
   "source": [
    "insertList = []\n",
    "\n",
    "for i in tqdm(range(len(df))):\n",
    "\n",
    "    line = df.iloc[i]\n",
    "    id = line.id_regra\n",
    "    regra = line.ds_regra\n",
    "\n",
    "    r = requests.post(path, regra).text\n",
    "\n",
    "    if(id == 1 and 'Inicio' not in regra):\n",
    "        r = r.replace('{\"intents\":[', '{\"intents\":[\"Inicio\",')\n",
    "    \n",
    "    insert = \"insert into tb_categoria_regra values(nextval('sq_categoria_regra'), \"+  str(id) + \", \" +\"'\"+ str(r)+\"'\"+\", current_timestamp);\"\n",
    "    insertList.append(insert)\n",
    "    "
   ]
  },
  {
   "cell_type": "code",
   "execution_count": 23,
   "metadata": {},
   "outputs": [
    {
     "name": "stderr",
     "output_type": "stream",
     "text": [
      "100%|██████████| 37/37 [00:07<00:00,  5.00it/s]\n"
     ]
    }
   ],
   "source": [
    "for i in tqdm(range(len(insertList))):\n",
    "    l = insertList[i]\n",
    "    cur.execute(l)"
   ]
  },
  {
   "cell_type": "code",
   "execution_count": null,
   "metadata": {},
   "outputs": [],
   "source": [
    "cur.execute(\"refresh materialized view vw_categoria_regra;\")"
   ]
  },
  {
   "cell_type": "code",
   "execution_count": 24,
   "metadata": {},
   "outputs": [],
   "source": [
    "cur.execute(\"commit;\")"
   ]
  },
  {
   "cell_type": "code",
   "execution_count": 25,
   "metadata": {},
   "outputs": [
    {
     "data": {
      "text/plain": [
       "<function connection.close>"
      ]
     },
     "execution_count": 25,
     "metadata": {},
     "output_type": "execute_result"
    }
   ],
   "source": [
    "cur.close\n",
    "conn.close"
   ]
  }
 ],
 "metadata": {
  "kernelspec": {
   "display_name": "Python 3.9.13 ('base')",
   "language": "python",
   "name": "python3"
  },
  "language_info": {
   "codemirror_mode": {
    "name": "ipython",
    "version": 3
   },
   "file_extension": ".py",
   "mimetype": "text/x-python",
   "name": "python",
   "nbconvert_exporter": "python",
   "pygments_lexer": "ipython3",
   "version": "3.9.13"
  },
  "orig_nbformat": 4,
  "vscode": {
   "interpreter": {
    "hash": "45e4065687c82a83b75b9c94d7b43e33652e81b54ebecd6e66eb503517304528"
   }
  }
 },
 "nbformat": 4,
 "nbformat_minor": 2
}
